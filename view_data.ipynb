{
 "cells": [
  {
   "cell_type": "code",
   "execution_count": 8,
   "metadata": {},
   "outputs": [],
   "source": [
    "import matplotlib.pyplot as plt\n",
    "import pathlib\n",
    "import json\n",
    "import albumentations as A\n",
    "import numpy as np\n",
    "from PIL import Image\n",
    "import torch\n",
    "from torchvision.models.detection.transform import GeneralizedRCNNTransform\n",
    "from pytorch_faster_rcnn_tutorial.datasets import ObjectDetectionDataSet\n",
    "from pytorch_faster_rcnn_tutorial.transformations import ComposeDouble, Clip, AlbumentationWrapper, FunctionWrapperDouble\n",
    "from pytorch_faster_rcnn_tutorial.transformations import normalize_01\n",
    "from pytorch_faster_rcnn_tutorial.utils import get_filenames_of_path, collate_single, stats_dataset\n",
    "from pytorch_faster_rcnn_tutorial.visual import DatasetViewer, DatasetViewerSingle"
   ]
  },
  {
   "cell_type": "code",
   "execution_count": 2,
   "metadata": {},
   "outputs": [],
   "source": [
    "#root directory\n",
    "root = pathlib.Path('pytorch_faster_rcnn_tutorial/data/shelves')\n",
    "\n",
    "#input and target files\n",
    "inputs = get_filenames_of_path(root / 'input')\n",
    "targets = get_filenames_of_path(root / 'target')\n",
    "\n",
    "inputs.sort()\n",
    "targets.sort()\n",
    "\n",
    "#mapping\n",
    "mapping = {\n",
    "    'region': 1,\n",
    "}"
   ]
  },
  {
   "cell_type": "code",
   "execution_count": 3,
   "metadata": {},
   "outputs": [],
   "source": [
    "#transformations and augmentations --> look into which one to use\n",
    "transforms = ComposeDouble([\n",
    "    Clip(),\n",
    "    # AlbumentationWrapper(albumentation=A.HorizontalFlip(p=0.5)),\n",
    "    # AlbumentationWrapper(albumentation=A.RandomScale(p=0.5, scale_limit=0.5)),\n",
    "    # AlbuWrapper(albu=A.VerticalFlip(p=0.5)),\n",
    "    FunctionWrapperDouble(np.moveaxis, source=-1, destination=0),\n",
    "    FunctionWrapperDouble(normalize_01)\n",
    "])"
   ]
  },
  {
   "cell_type": "code",
   "execution_count": 4,
   "metadata": {},
   "outputs": [],
   "source": [
    "# create dataset\n",
    "dataset = ObjectDetectionDataSet(inputs=inputs,\n",
    "                                 targets=targets,\n",
    "                                 transform=transforms,\n",
    "                                 use_cache=False,\n",
    "                                 convert_to_format=None,\n",
    "                                 mapping=mapping)"
   ]
  },
  {
   "cell_type": "code",
   "execution_count": 9,
   "metadata": {},
   "outputs": [],
   "source": [
    "# rcnn transform\n",
    "transform = GeneralizedRCNNTransform(min_size=int(1024),\n",
    "                                     max_size=int(1024),\n",
    "                                     image_mean=[0.485, 0.456, 0.406],\n",
    "                                     image_std=[0.229, 0.224, 0.225])\n"
   ]
  },
  {
   "cell_type": "code",
   "execution_count": 7,
   "metadata": {},
   "outputs": [
    {
     "name": "stderr",
     "output_type": "stream",
     "text": [
      "/Users/wandermarijnissen/my_venvs/project1_venv/lib/python3.8/site-packages/napari/_vispy/vispy_camera.py:109: RuntimeWarning: divide by zero encountered in true_divide\n",
      "  zoom = np.min(canvas_size / scale)\n",
      "Exception in callback BaseAsyncIOLoop._handle_events(120, 1)\n",
      "handle: <Handle BaseAsyncIOLoop._handle_events(120, 1)>\n",
      "Traceback (most recent call last):\n",
      "  File \"/Library/Frameworks/Python.framework/Versions/3.8/lib/python3.8/asyncio/events.py\", line 81, in _run\n",
      "    self._context.run(self._callback, *self._args)\n",
      "  File \"/Users/wandermarijnissen/my_venvs/project1_venv/lib/python3.8/site-packages/tornado/platform/asyncio.py\", line 189, in _handle_events\n",
      "    handler_func(fileobj, events)\n",
      "  File \"/Users/wandermarijnissen/my_venvs/project1_venv/lib/python3.8/site-packages/zmq/eventloop/zmqstream.py\", line 452, in _handle_events\n",
      "    self._handle_recv()\n",
      "  File \"/Users/wandermarijnissen/my_venvs/project1_venv/lib/python3.8/site-packages/zmq/eventloop/zmqstream.py\", line 481, in _handle_recv\n",
      "    self._run_callback(callback, msg)\n",
      "  File \"/Users/wandermarijnissen/my_venvs/project1_venv/lib/python3.8/site-packages/zmq/eventloop/zmqstream.py\", line 431, in _run_callback\n",
      "    callback(*args, **kwargs)\n",
      "  File \"/Users/wandermarijnissen/my_venvs/project1_venv/lib/python3.8/site-packages/jupyter_client/threaded.py\", line 121, in _handle_recv\n",
      "    msg_list = self.ioloop._asyncio_event_loop.run_until_complete(get_msg(future_msg))\n",
      "  File \"/Library/Frameworks/Python.framework/Versions/3.8/lib/python3.8/asyncio/base_events.py\", line 595, in run_until_complete\n",
      "    self.run_forever()\n",
      "  File \"/Library/Frameworks/Python.framework/Versions/3.8/lib/python3.8/asyncio/base_events.py\", line 552, in run_forever\n",
      "    raise RuntimeError(\n",
      "RuntimeError: Cannot run the event loop while another loop is running\n",
      "ERROR:tornado.general:Uncaught exception in ZMQStream callback\n",
      "Traceback (most recent call last):\n",
      "  File \"/Users/wandermarijnissen/my_venvs/project1_venv/lib/python3.8/site-packages/zmq/eventloop/zmqstream.py\", line 431, in _run_callback\n",
      "    callback(*args, **kwargs)\n",
      "  File \"/Users/wandermarijnissen/my_venvs/project1_venv/lib/python3.8/site-packages/jupyter_client/threaded.py\", line 121, in _handle_recv\n",
      "    msg_list = self.ioloop._asyncio_event_loop.run_until_complete(get_msg(future_msg))\n",
      "  File \"/Library/Frameworks/Python.framework/Versions/3.8/lib/python3.8/asyncio/base_events.py\", line 595, in run_until_complete\n",
      "    self.run_forever()\n",
      "  File \"/Library/Frameworks/Python.framework/Versions/3.8/lib/python3.8/asyncio/base_events.py\", line 552, in run_forever\n",
      "    raise RuntimeError(\n",
      "RuntimeError: Cannot run the event loop while another loop is running\n",
      "ERROR:tornado.general:Uncaught exception in zmqstream callback\n",
      "Traceback (most recent call last):\n",
      "  File \"/Users/wandermarijnissen/my_venvs/project1_venv/lib/python3.8/site-packages/zmq/eventloop/zmqstream.py\", line 452, in _handle_events\n",
      "    self._handle_recv()\n",
      "  File \"/Users/wandermarijnissen/my_venvs/project1_venv/lib/python3.8/site-packages/zmq/eventloop/zmqstream.py\", line 481, in _handle_recv\n",
      "    self._run_callback(callback, msg)\n",
      "  File \"/Users/wandermarijnissen/my_venvs/project1_venv/lib/python3.8/site-packages/zmq/eventloop/zmqstream.py\", line 431, in _run_callback\n",
      "    callback(*args, **kwargs)\n",
      "  File \"/Users/wandermarijnissen/my_venvs/project1_venv/lib/python3.8/site-packages/jupyter_client/threaded.py\", line 121, in _handle_recv\n",
      "    msg_list = self.ioloop._asyncio_event_loop.run_until_complete(get_msg(future_msg))\n",
      "  File \"/Library/Frameworks/Python.framework/Versions/3.8/lib/python3.8/asyncio/base_events.py\", line 595, in run_until_complete\n",
      "    self.run_forever()\n",
      "  File \"/Library/Frameworks/Python.framework/Versions/3.8/lib/python3.8/asyncio/base_events.py\", line 552, in run_forever\n",
      "    raise RuntimeError(\n",
      "RuntimeError: Cannot run the event loop while another loop is running\n"
     ]
    }
   ],
   "source": [
    "color_mapping = {\n",
    "    1: 'red',\n",
    "}\n",
    "\n",
    "datasetviewer = DatasetViewer(dataset, color_mapping, rccn_transform=None)\n",
    "datasetviewer.napari()"
   ]
  },
  {
   "cell_type": "code",
   "execution_count": 10,
   "metadata": {},
   "outputs": [],
   "source": [
    "stats_transform = stats_dataset(dataset, transform)"
   ]
  },
  {
   "cell_type": "code",
   "execution_count": 11,
   "metadata": {},
   "outputs": [
    {
     "name": "stdout",
     "output_type": "stream",
     "text": [
      "bounding box min, max, average:\n",
      "height: 8.0284423828125, 767.2000122070312, 84.97798919677734\n",
      "width: 10.271392822265625, 690.517578125, 102.17707061767578\n",
      "area: 402.93475341796875, 191102.046875, 9585.3466796875\n"
     ]
    }
   ],
   "source": [
    "print(\"bounding box min, max, average:\")\n",
    "print(\"height: \" + str(torch.min(stats_transform[\"boxes_height\"]).item()) + \", \" + str(torch.max(stats_transform[\"boxes_height\"]).item()) + \", \" + str(torch.mean(stats_transform[\"boxes_height\"]).item()))\n",
    "print(\"width: \" + str(torch.min(stats_transform[\"boxes_width\"]).item()) + \", \" + str(torch.max(stats_transform[\"boxes_width\"]).item()) + \", \" + str(torch.mean(stats_transform[\"boxes_width\"]).item()))\n",
    "print(\"area: \" + str(torch.min(stats_transform[\"boxes_area\"]).item()) + \", \" + str(torch.max(stats_transform[\"boxes_area\"]).item()) + \", \" + str(torch.mean(stats_transform[\"boxes_area\"]).item()))\n"
   ]
  },
  {
   "cell_type": "code",
   "execution_count": 42,
   "metadata": {},
   "outputs": [
    {
     "data": {
      "image/png": "[encoded data removed]",
      "text/plain": [
       "<Figure size 432x288 with 1 Axes>"
      ]
     },
     "metadata": {
      "needs_background": "light"
     },
     "output_type": "display_data"
    },
    {
     "data": {
      "image/png": "[encoded data removed]",
      "text/plain": [
       "<Figure size 432x288 with 1 Axes>"
      ]
     },
     "metadata": {
      "needs_background": "light"
     },
     "output_type": "display_data"
    },
    {
     "data": {
      "image/png": "[encoded data removed]",
      "text/plain": [
       "<Figure size 432x288 with 1 Axes>"
      ]
     },
     "metadata": {
      "needs_background": "light"
     },
     "output_type": "display_data"
    },
    {
     "data": {
      "image/png": "[encoded data removed]",
      "text/plain": [
       "<Figure size 432x288 with 1 Axes>"
      ]
     },
     "metadata": {
      "needs_background": "light"
     },
     "output_type": "display_data"
    }
   ],
   "source": [
    "bins = 130\n",
    "#plot height\n",
    "plt.hist(stats_transform[\"boxes_height\"].numpy(), color = 'blue', edgecolor = 'white',\n",
    "         bins=bins)\n",
    "plt.xlabel('Height')\n",
    "plt.ylabel('Frequency')\n",
    "plt.show()\n",
    "\n",
    "#plot width\n",
    "plt.hist(stats_transform[\"boxes_width\"].numpy(), color = 'blue', edgecolor = 'white',\n",
    "         bins=bins)\n",
    "plt.xlabel('Width')\n",
    "plt.ylabel('Frequency')\n",
    "plt.show()\n",
    "\n",
    "#plot area\n",
    "plt.hist(stats_transform[\"boxes_area\"].numpy(), color = 'blue', edgecolor = 'white',\n",
    "         bins=bins)\n",
    "plt.xlabel('Area')\n",
    "plt.ylabel('Frequency')\n",
    "plt.show()\n",
    "\n",
    "#plot aspect ratios\n",
    "plt.hist(aspect_ratios, color = 'blue', edgecolor = 'white',\n",
    "         bins=bins)\n",
    "plt.xlabel('Aspect Ratio')\n",
    "plt.ylabel('Frequency')\n",
    "plt.show()"
   ]
  },
  {
   "cell_type": "code",
   "execution_count": null,
   "metadata": {},
   "outputs": [],
   "source": [
    "#check image sizes\n",
    "min_imheight = min_imwidth = min_imarea = 100000000\n",
    "max_imheight = max_imwidth = max_imarea = 0\n",
    "min_area_image = max_area_image = 0\n",
    "average_imheigth = average_imwidth = average_imarea = 0\n",
    "\n",
    "for i in range(len(inputs)):\n",
    "    im = Image.open(inputs[i])\n",
    "    width,height = im.size\n",
    "    area = width*height\n",
    "    average_imwidth += width/len(inputs)\n",
    "    average_imheigth += height/len(inputs)\n",
    "    average_imarea += area/len(inputs)\n",
    "    if width > max_imwidth:\n",
    "        max_imwidth = width\n",
    "    elif width < min_imwidth:\n",
    "        min_imwidth = width\n",
    "    if height > max_imheight:\n",
    "        max_imheight = height \n",
    "    elif height < min_imheight:\n",
    "        min_imheight = height\n",
    "    if area > max_imarea:\n",
    "        max_imarea = area\n",
    "        max_area_image = i\n",
    "    elif area < min_imarea:\n",
    "        min_imarea = area\n",
    "        min_area_image = i\n",
    "\n",
    "min_im = Image.open(inputs[min_area_image])\n",
    "width,height = min_im.size\n",
    "min_dimensions = width,height\n",
    "\n",
    "#print summary stats\n",
    "print(\"max image height: \" + str(max_imheight))\n",
    "print(\"min image height: \" + str(min_imheight))\n",
    "print(\"average image heigth: \" + str(average_imheigth))\n",
    "print(\"max image width: \" + str(max_imwidth))\n",
    "print(\"min image width: \" + str(min_imwidth))\n",
    "print(\"average image width: \" + str(average_imwidth))\n",
    "print(\"max image size: \" + str(max_imarea)  + str(Image.open(inputs[max_area_image]).size))\n",
    "print(\"min image size: \" + str(min_imarea) + str(Image.open(inputs[min_area_image]).size))\n",
    "print(\"average image size: \" + str(average_imarea))"
   ]
  },
  {
   "cell_type": "code",
   "execution_count": 29,
   "metadata": {},
   "outputs": [],
   "source": [
    "#accumalate summary statistics\n",
    "number_regions = 0\n",
    "max_number_regions = 0\n",
    "min_number_regions = 1000\n",
    "\n",
    "#also check at which images this occurs\n",
    "max_regions_image = 0\n",
    "min_regions_image = 0\n",
    "\n",
    "directory = os.getcwd() + \"/pytorch_faster_rcnn_tutorial/data/shelves/target\"\n",
    "for i in range(len(targets)):\n",
    "    t = targets[i]\n",
    "    t_f = open(t)\n",
    "    t_data = json.load(t_f)\n",
    "    annotation = t_data\n",
    "    number_regions += len(annotation[\"labels\"])\n",
    "    if len(annotation[\"labels\"]) > max_number_regions:\n",
    "        max_number_regions = len(annotation[\"labels\"])\n",
    "        max_regions_image = i\n",
    "    if len(annotation[\"labels\"]) < min_number_regions:\n",
    "        min_number_regions = len(annotation[\"labels\"])\n",
    "        min_regions_image = i"
   ]
  },
  {
   "cell_type": "code",
   "execution_count": null,
   "metadata": {},
   "outputs": [],
   "source": [
    "#count number of images, total number of regions, average number of regions per picture, max #regions per picture, min #regions per picture\n",
    "print(\"some more summary statistics:\")\n",
    "print(\"number of images: \" + str(len(targets)))\n",
    "print(\"total number of regions: \" + str(number_regions))\n",
    "print(\"avg number of regions: \" + str(number_regions/len(targets)))\n",
    "print(\"max number of regions: \" + str(max_number_regions) + \" at \" + str(max_regions_image))\n",
    "print(\"min number of regions: \" + str(min_number_regions) + \" at \" + str(min_regions_image))"
   ]
  },
  {
   "cell_type": "code",
   "execution_count": 32,
   "metadata": {},
   "outputs": [],
   "source": [
    "#statistics on bounding boxes\n",
    "max_width = max_height = max_aspect_ratio = max_area = 0\n",
    "min_width = min_height = min_aspect_ratio = min_area = 100000\n",
    "\n",
    "#also check which boxes are the extreme for examples\n",
    "max_width_box = max_height_box = min_width_box = min_height_box = min_aspect_ratio_box = max_aspect_ratio_box = min_area_box = max_area_box = average_height = average_width = average_aspect_ratio = 0\n",
    "average_area = 0\n",
    "aspect_ratios = []\n",
    "\n",
    "for i in range(len(targets)):\n",
    "    t = targets[i]\n",
    "    t_f = open(t)\n",
    "    annotation = json.load(t_f)\n",
    "    for j in range(len(annotation[\"boxes\"])):\n",
    "        box = annotation[\"boxes\"][j]\n",
    "        width = box[2]-box[0]\n",
    "        height = box[3]-box[1]\n",
    "        area = width*height\n",
    "        aspect_ratio = width/height\n",
    "        average_height += height/number_regions\n",
    "        average_width += width/number_regions\n",
    "        average_aspect_ratio += aspect_ratio/number_regions\n",
    "        average_area += area/number_regions\n",
    "        if width > max_width:\n",
    "            max_width = width\n",
    "            max_width_box = i,j\n",
    "        elif width < min_width:\n",
    "            min_width = width\n",
    "            min_width_box = i,j\n",
    "        if height > max_height:\n",
    "            max_height = height\n",
    "            max_height_box = i,j\n",
    "        elif height < min_height:\n",
    "            min_height = height\n",
    "            min_height_box = i,j\n",
    "        aspect_ratios.append(aspect_ratio)\n",
    "        if aspect_ratio > max_aspect_ratio:\n",
    "            max_aspect_ratio = aspect_ratio\n",
    "            max_aspect_ratio_box = i,j\n",
    "        elif aspect_ratio < min_aspect_ratio:\n",
    "            min_aspect_ratio = aspect_ratio\n",
    "            min_aspect_ratio_box = i,j\n",
    "        if area > max_area:\n",
    "            max_area = area\n",
    "            max_area_box = i,j\n",
    "        elif area < min_area:\n",
    "            min_area = area\n",
    "            min_area_box = i,j\n",
    "    "
   ]
  },
  {
   "cell_type": "code",
   "execution_count": 31,
   "metadata": {},
   "outputs": [
    {
     "name": "stdout",
     "output_type": "stream",
     "text": [
      "some more summary statistics:\n",
      "min height: 36.0 at (51, 17)\n",
      "max height: 2029.0 at (96, 0)\n",
      "average height: 278.12313988010766\n",
      "min width: 21.0 at (44, 31)\n",
      "max width: 2097.0 at (3, 0)\n",
      "average width: 238.46537968399883\n",
      "min area: 4826.0 at (4, 71)\n",
      "max area: 1786785.0 at (8, 0)\n",
      "average area: 73768.36260456972\n",
      "min aspect ratio: 0.06382765531062198 at (42, 36)\n",
      "max aspect ratio: 8.37344398340249 at (51, 34)\n",
      "average aspect ratio: 0.8981627995936474\n"
     ]
    }
   ],
   "source": [
    "#summary stats extended (location i,j meaning bounding box i-1 in image j-1)\n",
    "print(\"some more summary statistics:\")\n",
    "print(\"min height: \" + str(min_height) + \" at \" + str(min_height_box))\n",
    "print(\"max height: \" + str(max_height) + \" at \" + str(max_height_box))\n",
    "print(\"average height: \" + str(average_height))\n",
    "print(\"min width: \" + str(min_width) + \" at \" + str(min_width_box))\n",
    "print(\"max width: \" + str(max_width) + \" at \" + str(max_width_box))\n",
    "print(\"average width: \" + str(average_width))\n",
    "print(\"min area: \" + str(min_area) + \" at \" + str(min_area_box))\n",
    "print(\"max area: \" + str(max_area) + \" at \" + str(max_area_box))\n",
    "print(\"average area: \" + str(average_area))\n",
    "print(\"min aspect ratio: \" +str(min_aspect_ratio) + \" at \" + str(min_aspect_ratio_box))\n",
    "print(\"max aspect ratio: \" + str(max_aspect_ratio) + \" at \" + str(max_aspect_ratio_box))\n",
    "print(\"average aspect ratio: \" + str(average_aspect_ratio))\n"
   ]
  },
  {
   "cell_type": "code",
   "execution_count": null,
   "metadata": {},
   "outputs": [],
   "source": [
    "#check a specific bounding box label\n",
    "t = targets[51]\n",
    "t_f = open(t)\n",
    "annotation = json.load(t_f)\n",
    "box = annotation[\"boxes\"][34]\n",
    "box"
   ]
  },
  {
   "cell_type": "code",
   "execution_count": null,
   "metadata": {},
   "outputs": [],
   "source": [
    "#used to inspect anchors --> weird thing: axes seem to flip\n",
    "from torchvision.models.detection.transform import GeneralizedRCNNTransform\n",
    "from pytorch_faster_rcnn_tutorial.visual import AnchorViewer\n",
    "\n",
    "transform = GeneralizedRCNNTransform(min_size=1024,\n",
    "                                     max_size=1024,\n",
    "                                     image_mean=[0.485, 0.456, 0.406],\n",
    "                                     image_std=[0.229, 0.224, 0.225])\n",
    "\n",
    "image = dataset[14]['x']  # ObjectDetectionDataSet\n",
    "feature_map_size = (4000, 32, 32)\n",
    "anchorviewer = AnchorViewer(image=image,\n",
    "                            rcnn_transform=transform,\n",
    "                            feature_map_size=feature_map_size,\n",
    "                            anchor_size=((64, 128, 256, 512),),\n",
    "                            aspect_ratios=((0.5,1.0,2.0,),)\n",
    "                            )\n",
    "anchorviewer.napari()"
   ]
  }
 ],
 "metadata": {
  "interpreter": {
   "hash": "224260031f515031d05efe68d15abcabe1a9d1b09f2ea9a1ac30e43f910fc361"
  },
  "kernelspec": {
   "display_name": "Python 3.8.0 ('project1_venv')",
   "language": "python",
   "name": "python3"
  },
  "language_info": {
   "codemirror_mode": {
    "name": "ipython",
    "version": 3
   },
   "file_extension": ".py",
   "mimetype": "text/x-python",
   "name": "python",
   "nbconvert_exporter": "python",
   "pygments_lexer": "ipython3",
   "version": "3.8.0"
  },
  "orig_nbformat": 4
 },
 "nbformat": 4,
 "nbformat_minor": 2
}
